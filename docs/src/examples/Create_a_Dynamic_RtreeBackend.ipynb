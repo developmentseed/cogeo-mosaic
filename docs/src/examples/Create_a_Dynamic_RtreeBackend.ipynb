{
 "cells": [
  {
   "cell_type": "markdown",
   "metadata": {},
   "source": [
    "# Create a Dynamic RTree backend\n",
    "\n",
    "By default cogeo-mosaic backends were meant to handle writing and reading mosaicjson either from a file or from a database.\n",
    "\n",
    "While this is fine for most use cases, some users could want something more `dynamic`. In this Notebook we will show how to create a Dynamic mosaic backend based on RTree (https://rtree.readthedocs.io/en/latest/tutorial.html#using-rtree-as-a-cheapo-spatial-database).\n"
   ]
  },
  {
   "cell_type": "markdown",
   "metadata": {},
   "source": [
    "\n",
    "## Requirements\n",
    "\n",
    "To be able to run this notebook you'll need the following requirements:\n",
    "- cogeo-mosaic\n",
    "- rtree\n",
    "- shapely\n",
    "- tqdm"
   ]
  },
  {
   "cell_type": "code",
   "execution_count": null,
   "metadata": {
    "scrolled": true
   },
   "outputs": [],
   "source": [
    "# Uncomment this line if you need to install the dependencies\n",
    "# !pip install cogeo-mosaic rtree shapely tqdm"
   ]
  },
  {
   "cell_type": "code",
   "execution_count": 1,
   "metadata": {
    "scrolled": true
   },
   "outputs": [],
   "source": [
    "import httpx\n",
    "import pickle\n",
    "\n",
    "from tqdm.notebook import tqdm\n",
    "\n",
    "from rtree import index"
   ]
  },
  {
   "cell_type": "markdown",
   "metadata": {},
   "source": [
    "## 1. Create the rtree Index\n",
    "\n",
    "Ref: https://azure.microsoft.com/en-us/services/open-datasets/catalog/naip/?tab=data-access#AzureNotebooks\n",
    "\n",
    "Azure is hosting a RTree index (tile_index) and a binary file with all the Naip geometry (tiles.p)\n",
    "\n",
    "binary: https://naipeuwest.blob.core.windows.net/naip-index/rtree/tiles.p\n",
    "Rtree: https://naipeuwest.blob.core.windows.net/naip-index/rtree/tile_index.dat and https://naipeuwest.blob.core.windows.net/naip-index/rtree/tile_index.idx\n",
    "\n",
    "Sadly the Rtree contains only the Indexes, which then has to be used to retrieve the path and geometry in `tiles.p`\n",
    "\n",
    "For this Demo we need to store the information directly in the Rtree object \n"
   ]
  },
  {
   "cell_type": "code",
   "execution_count": 2,
   "metadata": {
    "scrolled": true
   },
   "outputs": [
    {
     "name": "stderr",
     "output_type": "stream",
     "text": [
      "/var/folders/5m/9w3sxz2n1d12vyk8k_cz76w40000gn/T/ipykernel_37008/165553250.py:11: UserWarning: Unpickling a shapely <2.0 geometry object. Please save the pickle again; shapely 2.1 will not have this compatibility.\n",
      "  tile_index = pickle.load(f)\n"
     ]
    }
   ],
   "source": [
    "# Download geometry file\n",
    "url = \"https://naipeuwest.blob.core.windows.net/naip-index/rtree/tiles.p\"\n",
    "with httpx.stream(\"GET\", url) as r:\n",
    "    r.raise_for_status()\n",
    "    with open(\"tiles.p\", \"wb\") as f:\n",
    "        for chunk in r.iter_bytes(chunk_size=8192): \n",
    "            f.write(chunk)\n",
    "\n",
    "# Load tile index and create rtree index\n",
    "with open(\"tiles.p\", \"rb\") as f:\n",
    "    tile_index = pickle.load(f)"
   ]
  },
  {
   "cell_type": "code",
   "execution_count": 7,
   "metadata": {
    "scrolled": true
   },
   "outputs": [
    {
     "data": {
      "application/vnd.jupyter.widget-view+json": {
       "model_id": "7736c58fcc4f4e22bbda27e40a375487",
       "version_major": 2,
       "version_minor": 0
      },
      "text/plain": [
       "  0%|          | 0/1018253 [00:00<?, ?it/s]"
      ]
     },
     "metadata": {},
     "output_type": "display_data"
    }
   ],
   "source": [
    "# Create the Cheapo Rtree database\n",
    "# Make sure naip.dat and naip.idx do not exists\n",
    "naip_index = index.Rtree('naip')\n",
    "for idx, (f, geom) in tqdm(tile_index.items(), total=len(tile_index)):\n",
    "    naip_index.insert(idx, geom.bounds, obj=f\"https://naipeuwest.blob.core.windows.net/naip/{f}\")\n",
    "naip_index.close()"
   ]
  },
  {
   "cell_type": "markdown",
   "metadata": {},
   "source": [
    "## 2. Create backend"
   ]
  },
  {
   "cell_type": "code",
   "execution_count": 8,
   "metadata": {
    "scrolled": true
   },
   "outputs": [],
   "source": [
    "from typing import Dict, List, Callable\n",
    "\n",
    "import attr\n",
    "import morecantile\n",
    "from rio_tiler.io import BaseReader\n",
    "from rio_tiler.constants import WEB_MERCATOR_TMS\n",
    "\n",
    "from cogeo_mosaic.backends.base import BaseBackend\n",
    "from cogeo_mosaic.mosaic import MosaicJSON\n",
    "\n",
    "\n",
    "@attr.s\n",
    "class DynamicRtreeBackend(BaseBackend):\n",
    "\n",
    "    asset_filter: Callable = attr.ib(default=lambda x: x)\n",
    "        \n",
    "    # The reader is read-only, we can't pass mosaic_def to the init method\n",
    "    mosaic_def: MosaicJSON = attr.ib(init=False)\n",
    "\n",
    "    index = attr.ib(init=False)\n",
    "    \n",
    "    tms: morecantile.TileMatrixSet = attr.ib(default=WEB_MERCATOR_TMS)\n",
    "    minzoom: int = attr.ib(default=12)  # we know this by analysing the NAIP data \n",
    "    maxzoom: int = attr.ib(default=17)  # we know this by analysing the NAIP data \n",
    "\n",
    "    _backend_name = \"DynamicSTAC\"\n",
    "\n",
    "    def __attrs_post_init__(self):\n",
    "        \"\"\"Post Init.\"\"\"\n",
    "        # Construct a FAKE mosaicJSON\n",
    "        # mosaic_def has to be defined. As we do for the DynamoDB and SQLite backend\n",
    "        # we set `tiles` to an empty list.\n",
    "        self.mosaic_def = MosaicJSON(\n",
    "            mosaicjson=\"0.0.3\",\n",
    "            name=\"it's fake but it's ok\",\n",
    "            minzoom=self.minzoom,\n",
    "            maxzoom=self.maxzoom,\n",
    "            tiles=[],\n",
    "            tilematrixset=self.tms\n",
    "        )\n",
    "        self.index = index.Index(self.input)\n",
    "        self.bounds = tuple(self.index.bounds)\n",
    "        self.crs = self.tms.rasterio_geographic_crs\n",
    "        self.geographic_crs = self.tms.rasterio_geographic_crs\n",
    "\n",
    "    def close(self):\n",
    "        \"\"\"Close SQLite connection.\"\"\"\n",
    "        self.index.close()\n",
    "\n",
    "    def __exit__(self, exc_type, exc_value, traceback):\n",
    "        \"\"\"Support using with Context Managers.\"\"\"\n",
    "        self.close()        \n",
    "        \n",
    "    def write(self, overwrite: bool = True):\n",
    "        \"\"\"This method is not used but is required by the abstract class.\"\"\"\n",
    "        pass\n",
    "\n",
    "    def update(self):\n",
    "        \"\"\"We overwrite the default method.\"\"\"\n",
    "        pass\n",
    "\n",
    "    def _read(self) -> MosaicJSON:\n",
    "        \"\"\"This method is not used but is required by the abstract class.\"\"\"\n",
    "        pass\n",
    "\n",
    "    def assets_for_tile(self, x: int, y: int, z: int) -> List[str]:\n",
    "        \"\"\"Retrieve assets for tile.\"\"\"\n",
    "        bbox = self.tms.bounds(x, y, z)\n",
    "        return self.get_assets(bbox)\n",
    "\n",
    "    def assets_for_point(self, lng: float, lat: float) -> List[str]:\n",
    "        \"\"\"Retrieve assets for point.\"\"\"\n",
    "        EPSILON = 1e-14\n",
    "        bbox = (lng - EPSILON, lat - EPSILON, lng + EPSILON, lat + EPSILON)\n",
    "        return self.get_assets(bbox)\n",
    "\n",
    "    def get_assets(self, bbox) -> List[str]:\n",
    "        \"\"\"Find assets.\"\"\"\n",
    "        assets = [n.object for n in self.index.intersection(bbox, objects=True)]\n",
    "        return self.asset_filter(assets)\n",
    "\n",
    "    @property\n",
    "    def _quadkeys(self) -> List[str]:\n",
    "        return []\n"
   ]
  },
  {
   "cell_type": "code",
   "execution_count": 9,
   "metadata": {
    "scrolled": true
   },
   "outputs": [
    {
     "name": "stdout",
     "output_type": "stream",
     "text": [
      "['https://naipeuwest.blob.core.windows.net/naip/v002/md/2013/md_100cm_2013/38077/m_3807724_nw_18_1_20130924.tif', 'https://naipeuwest.blob.core.windows.net/naip/v002/md/2011/md_100cm_2011/38077/m_3807724_nw_18_1_20110629.tif', 'https://naipeuwest.blob.core.windows.net/naip/v002/md/2015/md_100cm_2015/38077/m_3807724_nw_18_1_20150814.tif', 'https://naipeuwest.blob.core.windows.net/naip/v002/va/2011/va_100cm_2011/38077/m_3807724_nw_18_1_20110530.tif', 'https://naipeuwest.blob.core.windows.net/naip/v002/md/2017/md_100cm_2017/38077/m_3807724_nw_18_1_20170716.tif', 'https://naipeuwest.blob.core.windows.net/naip/v002/md/2018/md_060cm_2018/38077/m_3807724_nw_18_060_20181025.tif', 'https://naipeuwest.blob.core.windows.net/naip/v002/md/2018/md_060cm_2018/38077/m_3807724_ne_18_060_20181019.tif', 'https://naipeuwest.blob.core.windows.net/naip/v002/md/2015/md_100cm_2015/38077/m_3807724_ne_18_1_20150814.tif', 'https://naipeuwest.blob.core.windows.net/naip/v002/md/2011/md_100cm_2011/38077/m_3807724_ne_18_1_20110629.tif', 'https://naipeuwest.blob.core.windows.net/naip/v002/md/2013/md_100cm_2013/38077/m_3807724_ne_18_1_20130924.tif', 'https://naipeuwest.blob.core.windows.net/naip/v002/va/2011/va_100cm_2011/38077/m_3807724_ne_18_1_20110530.tif', 'https://naipeuwest.blob.core.windows.net/naip/v002/md/2017/md_100cm_2017/38077/m_3807724_ne_18_1_20170716.tif', 'https://naipeuwest.blob.core.windows.net/naip/v002/va/2012/va_100cm_2012/38077/m_3807724_ne_18_1_20120511.tif', 'https://naipeuwest.blob.core.windows.net/naip/v002/va/2012/va_100cm_2012/38077/m_3807724_nw_18_1_20120511.tif', 'https://naipeuwest.blob.core.windows.net/naip/v002/va/2014/va_100cm_2014/38077/m_3807724_nw_18_1_20140927.tif', 'https://naipeuwest.blob.core.windows.net/naip/v002/va/2014/va_100cm_2014/38077/m_3807724_ne_18_1_20140927.tif', 'https://naipeuwest.blob.core.windows.net/naip/v002/va/2016/va_100cm_2016/38077/m_3807724_ne_18_1_20160718.tif', 'https://naipeuwest.blob.core.windows.net/naip/v002/va/2016/va_100cm_2016/38077/m_3807724_nw_18_1_20160718.tif', 'https://naipeuwest.blob.core.windows.net/naip/v002/va/2018/va_060cm_2018/38077/m_3807724_ne_18_060_20181019.tif', 'https://naipeuwest.blob.core.windows.net/naip/v002/va/2018/va_060cm_2018/38077/m_3807724_nw_18_060_20181025.tif']\n"
     ]
    }
   ],
   "source": [
    "# Get assets for a Tile requests\n",
    "with DynamicRtreeBackend(\"naip\") as mosaic:\n",
    "    print(mosaic.assets_for_tile(4684, 6278, 14))"
   ]
  },
  {
   "cell_type": "markdown",
   "metadata": {},
   "source": [
    "The naip dataset has couple overlapping years, to create an optimized mosaic we need to filter the assets.\n",
    "\n",
    "Here is an example of filter function which takes the latest data and highest resolution first."
   ]
  },
  {
   "cell_type": "code",
   "execution_count": 10,
   "metadata": {
    "scrolled": true
   },
   "outputs": [],
   "source": [
    "import pathlib\n",
    "\n",
    "def latest_naip_asset(assets: List[str]) -> List[str]:\n",
    "    \n",
    "    def get_info(asset) -> Dict:\n",
    "        parts = pathlib.Path(asset).parts\n",
    "        capture_date = parts[-1].split(\"_\")[-1].rstrip(\".tif\")\n",
    "        resolution = int(parts[-3].split(\"_\")[1].rstrip(\"cm\"))\n",
    "        fname_parts = parts[-1].split(\"_\")\n",
    "        quadrangle = f\"{fname_parts[1]}_{fname_parts[2]}_{fname_parts[3]}\"\n",
    "    \n",
    "        return {\n",
    "            \"path\": asset,\n",
    "            \"capture_date\": capture_date,\n",
    "            \"quadrangle\": quadrangle,\n",
    "            \"resolution\": resolution\n",
    "        }\n",
    "\n",
    "    asset_info = [get_info(f) for f in assets]\n",
    "    \n",
    "    # Sort by resolution and by dates\n",
    "    asset_info = sorted(\n",
    "        asset_info, key=lambda item: (item[\"capture_date\"], -item[\"resolution\"]),\n",
    "        reverse=True\n",
    "    )\n",
    "\n",
    "    quad = []\n",
    "    out_dataset = []\n",
    "    for d in asset_info:\n",
    "        q = d[\"quadrangle\"]\n",
    "        if q not in quad:\n",
    "            out_dataset.append(d[\"path\"])\n",
    "            quad.append(q)\n",
    "\n",
    "    return out_dataset\n"
   ]
  },
  {
   "cell_type": "code",
   "execution_count": 11,
   "metadata": {
    "scrolled": true
   },
   "outputs": [
    {
     "name": "stdout",
     "output_type": "stream",
     "text": [
      "['https://naipeuwest.blob.core.windows.net/naip/v002/md/2018/md_060cm_2018/38077/m_3807724_nw_18_060_20181025.tif', 'https://naipeuwest.blob.core.windows.net/naip/v002/md/2018/md_060cm_2018/38077/m_3807724_ne_18_060_20181019.tif']\n"
     ]
    }
   ],
   "source": [
    "with DynamicRtreeBackend(\"naip\", asset_filter=latest_naip_asset) as mosaic:\n",
    "    print(mosaic.assets_for_tile(4684, 6278, 14))"
   ]
  },
  {
   "cell_type": "code",
   "execution_count": null,
   "metadata": {},
   "outputs": [],
   "source": []
  }
 ],
 "metadata": {
  "kernelspec": {
   "display_name": "Python 3 (ipykernel)",
   "language": "python",
   "name": "python3"
  },
  "language_info": {
   "codemirror_mode": {
    "name": "ipython",
    "version": 3
   },
   "file_extension": ".py",
   "mimetype": "text/x-python",
   "name": "python",
   "nbconvert_exporter": "python",
   "pygments_lexer": "ipython3",
   "version": "3.9.13"
  }
 },
 "nbformat": 4,
 "nbformat_minor": 2
}
